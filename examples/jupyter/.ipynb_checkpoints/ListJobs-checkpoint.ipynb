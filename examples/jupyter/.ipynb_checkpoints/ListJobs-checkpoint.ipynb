{
 "cells": [
  {
   "cell_type": "code",
   "execution_count": null,
   "id": "6fe7bfb4-7b82-48f8-872a-1d1f837cc802",
   "metadata": {},
   "outputs": [],
   "source": [
    "import subprocess\n",
    "import sys\n",
    "import os\n",
    "\n",
    "def install_package():\n",
    "    # Path to your package (setup.py directory)\n",
    "    package_path = '.'\n",
    "\n",
    "    # Change the current working directory to the package path\n",
    "    os.chdir(package_path)\n",
    "\n",
    "    # Run pip install in editable mode\n",
    "    subprocess.check_call([sys.executable, '-m', 'pip', 'install', '-e', '../../.'])\n",
    "    subprocess.check_call([sys.executable, '-m', 'pip', 'install', 'databricks-sdk'])"
   ]
  },
  {
   "cell_type": "code",
   "execution_count": null,
   "id": "ab389113-11be-4ab7-ae54-a910f03107b4",
   "metadata": {},
   "outputs": [],
   "source": [
    "install_package()"
   ]
  },
  {
   "cell_type": "code",
   "execution_count": null,
   "id": "7a3fda53-3c0d-44c7-9b60-035bb45577a2",
   "metadata": {},
   "outputs": [],
   "source": [
    "from dip_connect.dip_conn import DIPConnect\n",
    "\n",
    "dipc = DIPConnect(workspace_url=\"<your workspace URL>\")\n",
    "dipc.connect()"
   ]
  },
  {
   "cell_type": "code",
   "execution_count": null,
   "id": "b6d7708d-4407-4877-bc90-c7cbdd3ff57e",
   "metadata": {},
   "outputs": [],
   "source": [
    "from databricks.sdk import WorkspaceClient\n",
    "w = WorkspaceClient()\n",
    "for j in w.jobs.list():\n",
    "    print(j)"
   ]
  },
  {
   "cell_type": "code",
   "execution_count": null,
   "id": "ad662e9b-53b0-4569-8992-8d58c27c0279",
   "metadata": {},
   "outputs": [],
   "source": []
  }
 ],
 "metadata": {
  "kernelspec": {
   "display_name": "Python 3 (ipykernel)",
   "language": "python",
   "name": "python3"
  },
  "language_info": {
   "codemirror_mode": {
    "name": "ipython",
    "version": 3
   },
   "file_extension": ".py",
   "mimetype": "text/x-python",
   "name": "python",
   "nbconvert_exporter": "python",
   "pygments_lexer": "ipython3",
   "version": "3.9.1"
  }
 },
 "nbformat": 4,
 "nbformat_minor": 5
}
